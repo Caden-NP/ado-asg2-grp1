{
 "metadata": {
  "kernelspec": {
   "display_name": "Streamlit Notebook",
   "name": "streamlit"
  },
  "lastEditStatus": {
   "notebookId": "3sbyc63rmjndj6ll3vzt",
   "authorId": "6348662296362",
   "authorName": "BADGER",
   "authorEmail": "",
   "sessionId": "e41d7053-dc09-4d67-833a-115563b995c2",
   "lastEditTime": 1738483723464
  }
 },
 "nbformat_minor": 5,
 "nbformat": 4,
 "cells": [
  {
   "cell_type": "code",
   "id": "06da8168-3f11-41e8-ade0-fd50365e7ed9",
   "metadata": {
    "language": "sql",
    "name": "cell1"
   },
   "outputs": [],
   "source": "--as Aleem, I will be ensuring that the first 6 tables are all prepped and created as ###_cleaned tables, ready for use\n\n--1\nselect * from CUSTOMERS_RAW\n--this table looks alright, so we can straightaway rename it as 'CUSTOMERS_CLEANED'.\nALTER TABLE CUSTOMERS_RAW RENAME TO CUSTOMERS_CLEANED;\nselect * from customers_cleaned  --this is the final customer table\n\n--2\nselect * from employee_raw\nALTER TABLE EMPLOYEE_RAW RENAME TO EMPLOYEE_CLEANED;\nselect * from employee_cleaned   --this is the final employee table\n\n\n--3\n\n\nselect * from inventory_transactions_raw\n\n-- Step 1: Create a cleaned version of the table without unnecessary columns\nCREATE OR REPLACE TABLE INVENTORY_TRANSACTIONS_CLEANED AS\nSELECT\n  TransactionID,\n  ProductID,\n  CAST(COALESCE(NULLIF(PurchaseOrderID, ''), -1) AS INT) AS PurchaseOrderID,\n  COALESCE(\n    TransactionDate,\n    TO_DATE ('1900-01-01', 'yyyy-mm-DD')\n  ) AS TransactionDate,\n  CAST(\n    COALESCE(NULLIF(UnitPurchasePrice, ''), 0) AS FLOAT\n  ) AS UnitPurchasePrice,\n  CAST(COALESCE(NULLIF(QuantityOrdered, ''), 0) AS INT) AS QuantityOrdered,\n  CAST(COALESCE(NULLIF(QuantityReceived, ''), 0) AS INT) AS QuantityReceived,\n  CAST(COALESCE(NULLIF(QuantityMissing, ''), 0) AS INT) AS QuantityMissing\nFROM\n  INVENTORY_TRANSACTIONS_RAW\nWHERE\n  NOT (MissingID IS NULL);\n\n\n\n-- Step 2: Verify the cleaned data\nSELECT *\nFROM INVENTORY_TRANSACTIONS_CLEANED\nLIMIT 10;\n\n\n-- Step 3: Add indexes or constraints (optional)\n-- For example, if TransactionID should be unique:\nALTER TABLE INVENTORY_TRANSACTIONS_CLEANED ADD PRIMARY KEY (TransactionID);  --this is the final inventory transactions ID although there are still issues to be fixed.\n\nSELECT * FROM INVENTORY_TRANSACTIONS_CLEANED;\n\n\n--4\n\nselect * from orders_raw\n\n\n-- Step 1: Create a cleaned version of the table\nCREATE OR REPLACE TABLE ORDERS_CLEANED AS\nSELECT\n    ORDERID,\n    CUSTOMERID,\n    EMPLOYEEID,\n    -- Replace NULL or empty strings with 0 and cast to INTEGER to remove decimal points\n    CAST(COALESCE(NULLIF(SHIPPINGMETHODID, ''), 0) AS INTEGER) AS SHIPPINGMETHODID,\n    ORDERDATE,\n    SHIPDATE,\n    FREIGHTCHARGE\nFROM ORDERS_RAW;\n\n-- Step 2: Verify the cleaned table\nSELECT *\nFROM ORDERS_CLEANED\n\n\n-- this is the final orders table\n\n\nselect * from order_details_raw\nALTER TABLE order_details_raw RENAME TO order_details_CLEANED;\nselect * from order_details_cleaned  --this is the final order details table\n\n\n--5\n\nselect * from payments_raw\n\n-- Step 1: Create a cleaned version of the table without rows containing missing or blank values\nCREATE OR REPLACE TABLE PAYMENTS_CLEANED AS\nSELECT\n    PAYMENTID,\n    ORDERID,\n    PAYMENTMETHODID,\n    PAYMENTDATE,\n    PAYMENTAMOUNT AS DECIMAL\nFROM PAYMENTS_RAW\nWHERE PAYMENTID IS NOT NULL\n  AND ORDERID IS NOT NULL\n  AND PAYMENTMETHODID IS NOT NULL AND PAYMENTMETHODID != ''\n  AND PAYMENTDATE IS NOT NULL \n  AND PAYMENTAMOUNT IS NOT NULL\n\n-- Step 2: Verify the cleaned table\nSELECT *\nFROM PAYMENTS_CLEANED",
   "execution_count": null
  }
 ]
}