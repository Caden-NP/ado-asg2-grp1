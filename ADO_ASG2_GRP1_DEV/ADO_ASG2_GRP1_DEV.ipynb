{
 "metadata": {
  "kernelspec": {
   "display_name": "Streamlit Notebook",
   "name": "streamlit"
  },
  "lastEditStatus": {
   "notebookId": "2efbjogo77hvlw7jtf3y",
   "authorId": "6348662296362",
   "authorName": "BADGER",
   "authorEmail": "",
   "sessionId": "28aaa4a8-c7e9-424c-b8f0-981073193f5c",
   "lastEditTime": 1738502694057
  }
 },
 "nbformat_minor": 5,
 "nbformat": 4,
 "cells": [
  {
   "cell_type": "markdown",
   "id": "4735e0b1-f79f-41d5-bbae-e2a971f885bc",
   "metadata": {
    "name": "clean_raw_tables_1st5",
    "collapsed": false
   },
   "source": "### Cleaning Raw Tables - 1st Five - Aleem\n(Reviewed and Organised by Caden)"
  },
  {
   "cell_type": "code",
   "id": "213c5a50-7a65-4c32-99fc-59075d79eb33",
   "metadata": {
    "language": "sql",
    "name": "CUSTOMERS_RAW"
   },
   "outputs": [],
   "source": "select * from CUSTOMERS_RAW;\n\n-- EDITED BY CADEN:\n-- Since table is alright, we recreate as new table 'CUSTOMERS_CLEANED'.\nCREATE OR REPLACE TABLE CUSTOMERS_CLEANED AS\nSELECT * FROM CUSTOMERS_RAW;\n\nselect * from CUSTOMERS_CLEANED;  --this is the final customer table",
   "execution_count": null
  },
  {
   "cell_type": "code",
   "id": "5eee29c1-5ec0-432a-94c4-de9a3a2edeeb",
   "metadata": {
    "language": "sql",
    "name": "EMPLOYEE_RAW"
   },
   "outputs": [],
   "source": "select * from EMPLOYEE_RAW;\n\n-- EDITED BY CADEN:\n-- Since table is alright, we recreate as new table 'CUSTOMERS_CLEANED'.\nCREATE OR REPLACE TABLE EMPLOYEE_CLEANED AS\nSELECT * FROM EMPLOYEE_RAW;\n\nselect * from EMPLOYEE_CLEANED;   --this is the final employee table",
   "execution_count": null
  },
  {
   "cell_type": "code",
   "id": "59ba8ec9-c512-475a-adc5-01ed3618ba7c",
   "metadata": {
    "language": "sql",
    "name": "INVENTORY_TRANSACTIONS_RAW"
   },
   "outputs": [],
   "source": "SELECT * FROM INVENTORY_TRANSACTIONS_RAW;\n\n-- Step 1: Create a cleaned version of the table without unnecessary columns\nCREATE OR REPLACE TABLE INVENTORY_TRANSACTIONS_CLEANED AS\nSELECT\n  TransactionID,\n  ProductID,\n  CAST(COALESCE(NULLIF(PurchaseOrderID, ''), -1) AS INT) AS PurchaseOrderID,\n  COALESCE(\n    TransactionDate,\n    TO_DATE ('1900-01-01', 'yyyy-mm-DD')\n  ) AS TransactionDate,\n  CAST(\n    COALESCE(NULLIF(UnitPurchasePrice, ''), 0) AS FLOAT\n  ) AS UnitPurchasePrice,\n  CAST(COALESCE(NULLIF(QuantityOrdered, ''), 0) AS INT) AS QuantityOrdered,\n  CAST(COALESCE(NULLIF(QuantityReceived, ''), 0) AS INT) AS QuantityReceived,\n  CAST(COALESCE(NULLIF(QuantityMissing, ''), 0) AS INT) AS QuantityMissing\nFROM\n  INVENTORY_TRANSACTIONS_RAW\nWHERE\n  NOT (MissingID IS NULL);\n\n-- Step 2: Verify the cleaned data\nSELECT *\nFROM INVENTORY_TRANSACTIONS_CLEANED\nLIMIT 10;\n\n-- Step 3: Add indexes or constraints (optional)\n-- For example, if TransactionID should be unique:\nALTER TABLE INVENTORY_TRANSACTIONS_CLEANED ADD PRIMARY KEY (TransactionID);  \n--this is the final inventory transactions ID although there are still issues to be fixed.\n\nSELECT * FROM INVENTORY_TRANSACTIONS_CLEANED;",
   "execution_count": null
  },
  {
   "cell_type": "code",
   "id": "0e9ae63f-74f1-454b-b8ea-4975c249f4fe",
   "metadata": {
    "language": "sql",
    "name": "ORDERS_RAW"
   },
   "outputs": [],
   "source": "SELECT * FROM ORDERS_RAW;\n\n-- Step 1: Create a cleaned version of the table\nCREATE OR REPLACE TABLE ORDERS_CLEANED AS\nSELECT\n    ORDERID,\n    CUSTOMERID,\n    EMPLOYEEID,\n    -- Replace NULL or empty strings with 0 and cast to INTEGER to remove decimal points\n    CAST(COALESCE(NULLIF(SHIPPINGMETHODID, ''), 0) AS INTEGER) AS SHIPPINGMETHODID,\n    ORDERDATE,\n    SHIPDATE,\n    FREIGHTCHARGE\nFROM ORDERS_RAW;\n\n-- Step 2: Verify the cleaned table\nSELECT *\nFROM ORDERS_CLEANED;",
   "execution_count": null
  },
  {
   "cell_type": "code",
   "id": "b9176685-36cb-430c-81e5-0eb56ced80a2",
   "metadata": {
    "language": "sql",
    "name": "ORDER_DETAILS_RAW"
   },
   "outputs": [],
   "source": "select * from ORDER_DETAILS_RAW;\n\n-- EDITED BY CADEN:\n-- Since table is alright, we recreate as new table 'ORDER_DETAILS_CLEANED'.\nCREATE OR REPLACE TABLE ORDER_DETAILS_CLEANED AS\nSELECT * FROM ORDER_DETAILS_RAW;\n\nselect * from ORDER_DETAILS_CLEANED;  --this is the final order details table",
   "execution_count": null
  },
  {
   "cell_type": "markdown",
   "id": "3cae1787-980b-4d59-bdde-9ab32da0c264",
   "metadata": {
    "name": "clean_raw_tables_nxt6",
    "collapsed": false
   },
   "source": "### Cleaning Raw Tables - nxt Six - Hakim\n(Reviewed and Organised by Caden)"
  },
  {
   "cell_type": "code",
   "id": "7b360d49-7160-49fc-97e6-81deeba695c5",
   "metadata": {
    "language": "sql",
    "name": "PRODUCTS_RAW"
   },
   "outputs": [],
   "source": "SELECT * FROM PRODUCTS_RAW;\n\n-- Step 1: Validate the table for NULL or invalid values\nSELECT *\nFROM PRODUCTS_RAW\nWHERE ProductName IS NULL\n   OR Category IS NULL\n   OR Weight IS NULL;\n\n-- Step 2: If all data is valid, rename the table\n\n-- EDITED BY CADEN:\n-- Since table is alright, we recreate as new table 'PRODUCTS_CLEANED'.\nCREATE OR REPLACE TABLE PRODUCTS_CLEANED AS\nSELECT * FROM PRODUCTS_RAW;\n\nSELECT * FROM PRODUCTS_CLEANED; -- This is the final products table.",
   "execution_count": null
  },
  {
   "cell_type": "code",
   "id": "cd32e34f-8197-4389-8843-9cccdb1524c5",
   "metadata": {
    "language": "sql",
    "name": "PURCHASE_ORDERS_RAW"
   },
   "outputs": [],
   "source": "-- PURCHASE_ORDERS_RAW\nSELECT * FROM PURCHASE_ORDERS_RAW;\n\n-- Step 1: Validate the table for NULL or invalid values\nSELECT *\nFROM PURCHASE_ORDERS_RAW\nWHERE PurchaseOrderID IS NULL\n   OR SupplierID IS NULL\n   OR ShippingMethodID IS NULL\n   OR OrderDate IS NULL;\n\n-- Step 2: If all data is valid, rename the table\n\n-- EDITED BY CADEN:\n-- Since table is alright, we recreate as new table 'PURCHASE_ORDERS_CLEANED'.\nCREATE OR REPLACE TABLE PURCHASE_ORDERS_CLEANED AS\nSELECT * FROM PURCHASE_ORDERS_RAW;\n\nSELECT * FROM PURCHASE_ORDERS_CLEANED; -- This is the final purchase orders table.",
   "execution_count": null
  },
  {
   "cell_type": "code",
   "id": "5d75cb43-4236-4436-9a15-16f2004b216f",
   "metadata": {
    "language": "sql",
    "name": "SHIPPING_METHODS_RAW"
   },
   "outputs": [],
   "source": "-- SHIPPING_METHODS_RAW\nSELECT * FROM SHIPPING_METHODS_RAW;\n\n-- Step 1: Validate the table for NULL or invalid values\nSELECT *\nFROM SHIPPING_METHODS_RAW\nWHERE ShippingMethod IS NULL;\n\n-- Step 2: If all data is valid, rename the table\n\n-- EDITED BY CADEN:\n-- Since table is alright, we recreate as new table 'SHIPPING_METHODS_CLEANED'.\nCREATE OR REPLACE TABLE SHIPPING_METHODS_CLEANED AS\nSELECT * FROM SHIPPING_METHODS_RAW;\n\nSELECT * FROM SHIPPING_METHODS_CLEANED; -- This is the final shipping methods table.",
   "execution_count": null
  },
  {
   "cell_type": "code",
   "id": "ab7c88ab-fc79-4fdb-acb2-4400a4b48d73",
   "metadata": {
    "language": "sql",
    "name": "SUPPLIERS_RAW"
   },
   "outputs": [],
   "source": "-- SUPPLIERS_RAW\nSELECT * FROM SUPPLIERS_RAW;\n\n-- Step 1: Validate the table for NULL or invalid values\nSELECT *\nFROM SUPPLIERS_RAW\nWHERE SupplierName IS NULL;\n\n-- Step 2: If all data is valid, rename the table\n\n-- EDITED BY CADEN:\n-- Since table is alright, we recreate as new table 'SUPPLIERS_CLEANED'.\nCREATE OR REPLACE TABLE SUPPLIERS_CLEANED AS\nSELECT * FROM SUPPLIERS_RAW;\n\nSELECT * FROM SUPPLIERS_CLEANED; -- This is the final suppliers table.",
   "execution_count": null
  },
  {
   "cell_type": "code",
   "id": "d1d78a03-58f2-4a49-99dc-c7b280e113b3",
   "metadata": {
    "language": "sql",
    "name": "PAYMENTS_RAW"
   },
   "outputs": [],
   "source": "SELECT * FROM PAYMENTS_RAW;\n\n-- EDITED BY CADEN: \n-- Step 1: Fix decimal places for PAYMENTAMOUNT\nCREATE OR REPLACE TABLE PAYMENTS_CLEANED AS \nSELECT \n    PAYMENTID, \n    ORDERID, \n    PAYMENTMETHODID, \n    PAYMENTDATE, \n    TRY_TO_DECIMAL(REPLACE(PAYMENTAMOUNT, ','), 10, 2) AS PAYMENTAMOUNT \nFROM PAYMENTS_RAW \nWHERE PAYMENTID IS NOT NULL \n    AND ORDERID IS NOT NULL \n    AND PAYMENTMETHODID IS NOT NULL AND PAYMENTMETHODID != '' \n    AND PAYMENTDATE IS NOT NULL \n    AND PAYMENTAMOUNT IS NOT NULL;\n\n-- Step 2: Verify the fixed table\nSELECT *\nFROM PAYMENTS_CLEANED;",
   "execution_count": null
  },
  {
   "cell_type": "code",
   "id": "5ebcffc5-15bb-459d-8efc-1913de217600",
   "metadata": {
    "language": "sql",
    "name": "PAYMENT_METHODS_RAW"
   },
   "outputs": [],
   "source": "-- PAYMENT_METHODS_RAW\nSELECT * FROM PAYMENT_METHODS_RAW;\n\n-- Step 1: Validate the table for NULL or invalid values\nSELECT *\nFROM PAYMENT_METHODS_RAW\nWHERE PaymentMethodID IS NULL\n   OR PaymentMethod IS NULL;\n\n-- Step 2: If there are no significant issues, rename the table\n\n-- EDITED BY CADEN:\n-- Since table is alright, we recreate as new table 'PAYMENT_METHODS_CLEANED'.\nCREATE OR REPLACE TABLE PAYMENT_METHODS_CLEANED AS\nSELECT * FROM PAYMENT_METHODS_RAW;\n\n-- Step 3: Verify the renamed table\nSELECT * FROM PAYMENT_METHODS_CLEANED;\n-- This is the final payment methods table.",
   "execution_count": null
  },
  {
   "cell_type": "markdown",
   "id": "7201f2f6-f782-492a-9f41-4f8c366b9730",
   "metadata": {
    "name": "adding_new_columns",
    "collapsed": false
   },
   "source": "### Adding New Columns for Analysis - Caden"
  },
  {
   "cell_type": "code",
   "id": "d80529c0-f17e-4fe0-93c1-443b253285c2",
   "metadata": {
    "language": "sql",
    "name": "DELIVERY_TIME",
    "collapsed": false,
    "codeCollapsed": false
   },
   "outputs": [],
   "source": "-- ADD NEW COLUMN \"DELIVERY_TIME\" \n-- which is the number of days for the product to be shipped to customers \nALTER TABLE ORDERS_CLEANED DROP COLUMN IF EXISTS DELIVERY_TIME;\nALTER TABLE ORDERS_CLEANED ADD COLUMN DELIVERY_TIME NUMBER DEFAULT 0;\n\nUPDATE ORDERS_CLEANED\n    SET DELIVERY_TIME = SHIPDATE - ORDERDATE;\n\n-- check for results\nSELECT TOP 10 * FROM ORDERS_CLEANED\nORDER BY DELIVERY_TIME ASC;",
   "execution_count": null
  },
  {
   "cell_type": "code",
   "id": "192c0cc4-452d-4c8a-8a17-3b55a1822951",
   "metadata": {
    "language": "sql",
    "name": "SHIPPING_METHODS_CLEANED",
    "collapsed": false
   },
   "outputs": [],
   "source": "-- Note: Not a new column but a row to handle orders with missing shipping method\n\n-- ADD NEW ROW to SHIPPING_METHODS_CLEANED\n-- for the rows that had a missing/NA shipping method\nSELECT COUNT(ORDERID), SHIPPINGMETHODID \nFROM ORDERS_CLEANED\nGROUP BY SHIPPINGMETHODID;\n\nINSERT INTO SHIPPING_METHODS_CLEANED\nVALUES (0, 'Unknown');\n\n-- check for results\nSELECT * FROM SHIPPING_METHODS_CLEANED;",
   "execution_count": null
  },
  {
   "cell_type": "code",
   "id": "4815932e-08bd-4cf6-94e9-e269cffa6607",
   "metadata": {
    "language": "sql",
    "name": "DAYS_TO_STOCK"
   },
   "outputs": [],
   "source": "-- ADD NEW COLUMN \"DAYS_TO_STOCK\" \n-- which is the number of days for the items to reach our inventory after purchasing\nALTER TABLE INVENTORY_TRANSACTIONS_CLEANED DROP COLUMN IF EXISTS DAYS_TO_STOCK;\nALTER TABLE INVENTORY_TRANSACTIONS_CLEANED ADD COLUMN DAYS_TO_STOCK NUMBER DEFAULT 0;\n\nUPDATE INVENTORY_TRANSACTIONS_CLEANED itc\n    SET DAYS_TO_STOCK = poc.ORDERDATE - pc.INVENTORYDATE\nFROM PURCHASE_ORDERS_CLEANED poc, PRODUCTS_CLEANED pc\nWHERE itc.purchaseorderid = poc.purchaseorderid\nAND itc.productid = pc.productid;\n\n-- check for results\nSELECT TOP 10 DAYS_TO_STOCK \nFROM INVENTORY_TRANSACTIONS_CLEANED;",
   "execution_count": null
  },
  {
   "cell_type": "code",
   "id": "4e6c51fa-71ed-4cb7-a023-6dafb2b368c2",
   "metadata": {
    "language": "sql",
    "name": "STOCK_LEVEL"
   },
   "outputs": [],
   "source": "-- ADD NEW COLUMN \"STOCK_LEVEL\" \n-- which is the current remaining inventory of our products\nALTER TABLE PRODUCTS_CLEANED DROP COLUMN IF EXISTS STOCK_LEVEL;\nALTER TABLE PRODUCTS_CLEANED ADD COLUMN STOCK_LEVEL NUMBER DEFAULT 0;\n\nUPDATE PRODUCTS_CLEANED pc\n    SET STOCK_LEVEL = itc.total_received\nFROM \n    (SELECT PRODUCTID, SUM(quantityreceived) total_received \n     FROM INVENTORY_TRANSACTIONS_CLEANED \n     GROUP BY PRODUCTID) itc\nWHERE pc.productid = itc.productid;\n\n-- in case none of the product is sold\nUPDATE PRODUCTS_CLEANED pc\n    SET STOCK_LEVEL = STOCK_LEVEL - odc.total_sold\nFROM INVENTORY_TRANSACTIONS_CLEANED itc,\n    (SELECT PRODUCTID, SUM(quantitysold) total_sold \n     FROM ORDER_DETAILS_CLEANED \n     GROUP BY PRODUCTID) odc\nWHERE pc.productid = itc.productid\nAND pc.productid = odc.productid;\n\n-- check for results\nSELECT * \nFROM PRODUCTS_CLEANED;",
   "execution_count": null
  },
  {
   "cell_type": "code",
   "id": "01f5dca7-d941-4e49-bea8-84992262e705",
   "metadata": {
    "language": "sql",
    "name": "VALUE_LOST"
   },
   "outputs": [],
   "source": "-- ADD NEW COLUMN \"VALUE_LOST\" \n-- which is the amount of money lost from missing items\nALTER TABLE INVENTORY_TRANSACTIONS_CLEANED DROP COLUMN IF EXISTS VALUE_LOST;\nALTER TABLE INVENTORY_TRANSACTIONS_CLEANED ADD COLUMN VALUE_LOST NUMBER DEFAULT 0;\n\nUPDATE INVENTORY_TRANSACTIONS_CLEANED\n    SET VALUE_LOST = QUANTITYMISSING * UNITPURCHASEPRICE;\n\n-- check for results\nSELECT *\nFROM INVENTORY_TRANSACTIONS_CLEANED\nWHERE QUANTITYMISSING != 0;",
   "execution_count": null
  },
  {
   "cell_type": "code",
   "id": "2f1d96a2-0cb2-4579-b05f-aebc98410995",
   "metadata": {
    "language": "sql",
    "name": "VALUE_RECEIVED"
   },
   "outputs": [],
   "source": "-- ADD NEW COLUMN \"VALUE_RECEIVED\" \n-- which is the value of the items received from purchasing\nALTER TABLE INVENTORY_TRANSACTIONS_CLEANED DROP COLUMN IF EXISTS VALUE_RECEIVED;\nALTER TABLE INVENTORY_TRANSACTIONS_CLEANED ADD COLUMN VALUE_RECEIVED NUMBER DEFAULT 0;\n\nUPDATE INVENTORY_TRANSACTIONS_CLEANED\n    SET VALUE_RECEIVED = QUANTITYRECEIVED * UNITPURCHASEPRICE;\n\n-- check for results\nSELECT TOP 5 *\nFROM INVENTORY_TRANSACTIONS_CLEANED\nWHERE UNITPURCHASEPRICE != 0;",
   "execution_count": null
  }
 ]
}