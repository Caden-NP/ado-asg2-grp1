{
 "metadata": {
  "kernelspec": {
   "display_name": "Streamlit Notebook",
   "name": "streamlit"
  },
  "lastEditStatus": {
   "notebookId": "2efbjogo77hvlw7jtf3y",
   "authorId": "6348662296362",
   "authorName": "BADGER",
   "authorEmail": "",
   "sessionId": "e41d7053-dc09-4d67-833a-115563b995c2",
   "lastEditTime": 1738494681510
  }
 },
 "nbformat_minor": 5,
 "nbformat": 4,
 "cells": [
  {
   "cell_type": "markdown",
   "id": "4735e0b1-f79f-41d5-bbae-e2a971f885bc",
   "metadata": {
    "name": "CLEAN_RAW_TABLES",
    "collapsed": false
   },
   "source": "### Cleaning Raw Tables - Aleem\n(Reviewed and Organised by Caden)"
  },
  {
   "cell_type": "code",
   "id": "06da8168-3f11-41e8-ade0-fd50365e7ed9",
   "metadata": {
    "language": "sql",
    "name": "ALEEM"
   },
   "outputs": [],
   "source": "--1\nselect * from CUSTOMERS_RAW;\n--this table looks alright, so we can straightaway rename it as 'CUSTOMERS_CLEANED'.\nALTER TABLE CUSTOMERS_RAW RENAME TO CUSTOMERS_CLEANED;\nselect * from customers_cleaned;  --this is the final customer table\n\n\n--2\nselect * from employee_raw;\nALTER TABLE EMPLOYEE_RAW RENAME TO EMPLOYEE_CLEANED;\nselect * from employee_cleaned;   --this is the final employee table\n\n\n--3\nselect * from inventory_transactions_raw;\n\n-- Step 1: Create a cleaned version of the table without unnecessary columns\nCREATE OR REPLACE TABLE INVENTORY_TRANSACTIONS_CLEANED AS\nSELECT\n  TransactionID,\n  ProductID,\n  CAST(COALESCE(NULLIF(PurchaseOrderID, ''), -1) AS INT) AS PurchaseOrderID,\n  COALESCE(\n    TransactionDate,\n    TO_DATE ('1900-01-01', 'yyyy-mm-DD')\n  ) AS TransactionDate,\n  CAST(\n    COALESCE(NULLIF(UnitPurchasePrice, ''), 0) AS FLOAT\n  ) AS UnitPurchasePrice,\n  CAST(COALESCE(NULLIF(QuantityOrdered, ''), 0) AS INT) AS QuantityOrdered,\n  CAST(COALESCE(NULLIF(QuantityReceived, ''), 0) AS INT) AS QuantityReceived,\n  CAST(COALESCE(NULLIF(QuantityMissing, ''), 0) AS INT) AS QuantityMissing\nFROM\n  INVENTORY_TRANSACTIONS_RAW\nWHERE\n  NOT (MissingID IS NULL);\n\n-- Step 2: Verify the cleaned data\nSELECT *\nFROM INVENTORY_TRANSACTIONS_CLEANED\nLIMIT 10;\n\n-- Step 3: Add indexes or constraints (optional)\n-- For example, if TransactionID should be unique:\nALTER TABLE INVENTORY_TRANSACTIONS_CLEANED ADD PRIMARY KEY (TransactionID);  \n--this is the final inventory transactions ID although there are still issues to be fixed.\n\nSELECT * FROM INVENTORY_TRANSACTIONS_CLEANED;\n\n\n--4\nselect * from orders_raw;\n\n-- Step 1: Create a cleaned version of the table\nCREATE OR REPLACE TABLE ORDERS_CLEANED AS\nSELECT\n    ORDERID,\n    CUSTOMERID,\n    EMPLOYEEID,\n    -- Replace NULL or empty strings with 0 and cast to INTEGER to remove decimal points\n    CAST(COALESCE(NULLIF(SHIPPINGMETHODID, ''), 0) AS INTEGER) AS SHIPPINGMETHODID,\n    ORDERDATE,\n    SHIPDATE,\n    FREIGHTCHARGE\nFROM ORDERS_RAW;\n\n-- Step 2: Verify the cleaned table\nSELECT *\nFROM ORDERS_CLEANED;\n\n-- this is the final orders table\nselect * from order_details_raw;\nALTER TABLE order_details_raw RENAME TO order_details_CLEANED;\nselect * from order_details_cleaned;  --this is the final order details table\n\n\n--5\nselect * from payments_raw\n\n-- EDITED BY CADEN: \n-- Step 1: Fix decimal places for PAYMENTAMOUNT\nCREATE OR REPLACE TABLE PAYMENTS_CLEANED AS \nSELECT \n    PAYMENTID, \n    ORDERID, \n    PAYMENTMETHODID, \n    PAYMENTDATE, \n    TRY_TO_DECIMAL(REPLACE(PAYMENTAMOUNT, ','), 10, 2) AS PAYMENTAMOUNT \nFROM PAYMENTS_RAW \nWHERE PAYMENTID IS NOT NULL \n    AND ORDERID IS NOT NULL \n    AND PAYMENTMETHODID IS NOT NULL AND PAYMENTMETHODID != '' \n    AND PAYMENTDATE IS NOT NULL \n    AND PAYMENTAMOUNT IS NOT NULL;\n\n-- Step 2: Verify the fixed table\nSELECT *\nFROM PAYMENTS_CLEANED;",
   "execution_count": null
  },
  {
   "cell_type": "markdown",
   "id": "7201f2f6-f782-492a-9f41-4f8c366b9730",
   "metadata": {
    "name": "ADDING_NEW_COLUMNS",
    "collapsed": false
   },
   "source": "### Adding New Columns for Analysis - Caden"
  },
  {
   "cell_type": "code",
   "id": "d80529c0-f17e-4fe0-93c1-443b253285c2",
   "metadata": {
    "language": "sql",
    "name": "DELIVERY_TIME",
    "collapsed": false,
    "codeCollapsed": false
   },
   "outputs": [],
   "source": "-- ADD NEW COLUMN \"DELIVERY_TIME\" \n-- which is the number of days for the product to be shipped to customers \nALTER TABLE ORDERS_CLEANED DROP COLUMN IF EXISTS DELIVERY_TIME;\nALTER TABLE ORDERS_CLEANED ADD COLUMN DELIVERY_TIME NUMBER DEFAULT 0;\n\nUPDATE ORDERS_CLEANED\n    SET DELIVERY_TIME = SHIPDATE - ORDERDATE;\n\n-- check for results\nSELECT TOP 10 * FROM ORDERS_CLEANED\nORDER BY DELIVERY_TIME ASC;",
   "execution_count": null
  },
  {
   "cell_type": "code",
   "id": "192c0cc4-452d-4c8a-8a17-3b55a1822951",
   "metadata": {
    "language": "sql",
    "name": "SHIPPING_METHODS_CLEANED",
    "collapsed": false
   },
   "outputs": [],
   "source": "-- Note: Not a new column but a row to handle orders with missing shipping method\n\n-- ADD NEW ROW to SHIPPING_METHODS_CLEANED\n-- for the rows that had a missing/NA shipping method\nSELECT COUNT(ORDERID), SHIPPINGMETHODID \nFROM ORDERS_CLEANED\nGROUP BY SHIPPINGMETHODID;\n\nINSERT INTO SHIPPING_METHODS_CLEANED\nVALUES (0, 'Unknown');\n\n-- check for results\nSELECT * FROM SHIPPING_METHODS_CLEANED;",
   "execution_count": null
  },
  {
   "cell_type": "code",
   "id": "4815932e-08bd-4cf6-94e9-e269cffa6607",
   "metadata": {
    "language": "sql",
    "name": "DAYS_TO_STOCK"
   },
   "outputs": [],
   "source": "-- ADD NEW COLUMN \"DAYS_TO_STOCK\" \n-- which is the number of days for the items to reach our inventory after purchasing\nALTER TABLE INVENTORY_TRANSACTIONS_CLEANED DROP COLUMN IF EXISTS DAYS_TO_STOCK;\nALTER TABLE INVENTORY_TRANSACTIONS_CLEANED ADD COLUMN DAYS_TO_STOCK NUMBER DEFAULT 0;\n\nUPDATE INVENTORY_TRANSACTIONS_CLEANED itc\n    SET DAYS_TO_STOCK = poc.ORDERDATE - pc.INVENTORYDATE\nFROM PURCHASE_ORDERS_CLEANED poc, PRODUCTS_CLEANED pc\nWHERE itc.purchaseorderid = poc.purchaseorderid\nAND itc.productid = pc.productid;\n\n-- check for results\nSELECT TOP 10 DAYS_TO_STOCK \nFROM INVENTORY_TRANSACTIONS_CLEANED;",
   "execution_count": null
  },
  {
   "cell_type": "code",
   "id": "4e6c51fa-71ed-4cb7-a023-6dafb2b368c2",
   "metadata": {
    "language": "sql",
    "name": "STOCK_LEVEL"
   },
   "outputs": [],
   "source": "-- ADD NEW COLUMN \"STOCK_LEVEL\" \n-- which is the current remaining inventory of our products\nALTER TABLE PRODUCTS_CLEANED DROP COLUMN IF EXISTS STOCK_LEVEL;\nALTER TABLE PRODUCTS_CLEANED ADD COLUMN STOCK_LEVEL NUMBER DEFAULT 0;\n\nUPDATE PRODUCTS_CLEANED pc\n    SET STOCK_LEVEL = itc.total_received\nFROM \n    (SELECT PRODUCTID, SUM(quantityreceived) total_received \n     FROM INVENTORY_TRANSACTIONS_CLEANED \n     GROUP BY PRODUCTID) itc\nWHERE pc.productid = itc.productid;\n\n-- in case none of the product is sold\nUPDATE PRODUCTS_CLEANED pc\n    SET STOCK_LEVEL = STOCK_LEVEL - odc.total_sold\nFROM INVENTORY_TRANSACTIONS_CLEANED itc,\n    (SELECT PRODUCTID, SUM(quantitysold) total_sold \n     FROM ORDER_DETAILS_CLEANED \n     GROUP BY PRODUCTID) odc\nWHERE pc.productid = itc.productid\nAND pc.productid = odc.productid;\n\n-- check for results\nSELECT * \nFROM PRODUCTS_CLEANED;",
   "execution_count": null
  },
  {
   "cell_type": "code",
   "id": "01f5dca7-d941-4e49-bea8-84992262e705",
   "metadata": {
    "language": "sql",
    "name": "VALUE_LOST"
   },
   "outputs": [],
   "source": "-- ADD NEW COLUMN \"VALUE_LOST\" \n-- which is the amount of money lost from missing items\nALTER TABLE INVENTORY_TRANSACTIONS_CLEANED DROP COLUMN IF EXISTS VALUE_LOST;\nALTER TABLE INVENTORY_TRANSACTIONS_CLEANED ADD COLUMN VALUE_LOST NUMBER DEFAULT 0;\n\nUPDATE INVENTORY_TRANSACTIONS_CLEANED\n    SET VALUE_LOST = QUANTITYMISSING * UNITPURCHASEPRICE;\n\n-- check for results\nSELECT *\nFROM INVENTORY_TRANSACTIONS_CLEANED\nWHERE QUANTITYMISSING != 0;",
   "execution_count": null
  },
  {
   "cell_type": "code",
   "id": "2f1d96a2-0cb2-4579-b05f-aebc98410995",
   "metadata": {
    "language": "sql",
    "name": "VALUE_RECEIVED"
   },
   "outputs": [],
   "source": "-- ADD NEW COLUMN \"VALUE_RECEIVED\" \n-- which is the value of the items received from purchasing\nALTER TABLE INVENTORY_TRANSACTIONS_CLEANED DROP COLUMN IF EXISTS VALUE_RECEIVED;\nALTER TABLE INVENTORY_TRANSACTIONS_CLEANED ADD COLUMN VALUE_RECEIVED NUMBER DEFAULT 0;\n\nUPDATE INVENTORY_TRANSACTIONS_CLEANED\n    SET VALUE_RECEIVED = QUANTITYRECEIVED * UNITPURCHASEPRICE;\n\n-- check for results\nSELECT TOP 5 *\nFROM INVENTORY_TRANSACTIONS_CLEANED\nWHERE UNITPURCHASEPRICE != 0;",
   "execution_count": null
  }
 ]
}