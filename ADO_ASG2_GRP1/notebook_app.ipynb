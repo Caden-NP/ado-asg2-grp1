{
 "metadata": {
  "kernelspec": {
   "display_name": "Streamlit Notebook",
   "name": "streamlit"
  },
  "lastEditStatus": {
   "notebookId": "j3ue66sp3yumvoo4dq2e",
   "authorId": "8772017424687",
   "authorName": "BEETLE",
   "authorEmail": "chewjulia1415@gmail.com",
   "sessionId": "b43ddbfd-8c1c-47a4-a214-13d3454e86cb",
   "lastEditTime": 1737538261304
  }
 },
 "nbformat_minor": 5,
 "nbformat": 4,
 "cells": [
  {
   "cell_type": "code",
   "id": "4d9b5414-30f7-491b-8072-fb96e8121ba0",
   "metadata": {
    "language": "sql",
    "name": "cell4",
    "collapsed": false,
    "resultHeight": 438
   },
   "outputs": [],
   "source": "SELECT * FROM ORDERS_CLEANED;",
   "execution_count": null
  }
 ]
}